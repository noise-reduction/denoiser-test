{
 "nbformat": 4,
 "nbformat_minor": 0,
 "metadata": {
  "colab": {
   "name": "denoiser-test.ipynb",
   "provenance": [],
   "collapsed_sections": [],
   "authorship_tag": "ABX9TyNyTsJJvvfb45txBc6iYPiu"
  },
  "kernelspec": {
   "name": "python3",
   "display_name": "Python 3"
  },
  "language_info": {
   "name": "python"
  },
  "accelerator": "GPU"
 },
 "cells": [
  {
   "cell_type": "code",
   "metadata": {
    "colab": {
     "base_uri": "https://localhost:8080/"
    },
    "id": "yisX5fviKXhu",
    "executionInfo": {
     "status": "ok",
     "timestamp": 1633875887443,
     "user_tz": -420,
     "elapsed": 17017,
     "user": {
      "displayName": "Тимур Касимов",
      "photoUrl": "https://lh3.googleusercontent.com/a-/AOh14GgoYD7gAO8MbW-ulTntpJEcWP5X43ZkEHscvf7OTg=s64",
      "userId": "04879825006862147686"
     }
    },
    "outputId": "0e8dec81-2880-472a-e053-ef4e8e0c257f"
   },
   "source": [
    "from google.colab import drive\n",
    "drive.mount('/content/drive')"
   ],
   "execution_count": 2,
   "outputs": [
    {
     "output_type": "stream",
     "name": "stdout",
     "text": [
      "Mounted at /content/drive\n"
     ]
    }
   ]
  },
  {
   "cell_type": "code",
   "metadata": {
    "id": "6hh0Zk1oahqA"
   },
   "source": [
    "!pip install colorlog==6.5.0 hydra-colorlog==0.1.4 hydra-core==0.11.3 omegaconf==1.4.1 pystoi==0.3.3 sounddevice==0.4.2 torchaudio==0.9.0 && pip install --no-deps denoiser==0.1.4"
   ],
   "execution_count": null,
   "outputs": []
  },
  {
   "cell_type": "code",
   "metadata": {
    "id": "O5JwH8RIQKuW",
    "executionInfo": {
     "status": "ok",
     "timestamp": 1633875916222,
     "user_tz": -420,
     "elapsed": 25069,
     "user": {
      "displayName": "Тимур Касимов",
      "photoUrl": "https://lh3.googleusercontent.com/a-/AOh14GgoYD7gAO8MbW-ulTntpJEcWP5X43ZkEHscvf7OTg=s64",
      "userId": "04879825006862147686"
     }
    }
   },
   "source": [
    "import torch"
   ],
   "execution_count": 3,
   "outputs": []
  },
  {
   "cell_type": "code",
   "metadata": {
    "colab": {
     "base_uri": "https://localhost:8080/"
    },
    "id": "KpaaPkGYUssY",
    "executionInfo": {
     "status": "ok",
     "timestamp": 1633875916222,
     "user_tz": -420,
     "elapsed": 6,
     "user": {
      "displayName": "Тимур Касимов",
      "photoUrl": "https://lh3.googleusercontent.com/a-/AOh14GgoYD7gAO8MbW-ulTntpJEcWP5X43ZkEHscvf7OTg=s64",
      "userId": "04879825006862147686"
     }
    },
    "outputId": "5a9ed899-3815-41a7-b2a4-d0537e9c572c"
   },
   "source": [
    "torch.cuda.is_available()"
   ],
   "execution_count": 4,
   "outputs": [
    {
     "output_type": "execute_result",
     "data": {
      "text/plain": [
       "True"
      ]
     },
     "metadata": {},
     "execution_count": 4
    }
   ]
  },
  {
   "cell_type": "code",
   "metadata": {
    "colab": {
     "base_uri": "https://localhost:8080/"
    },
    "id": "kHmAsxggQahV",
    "executionInfo": {
     "status": "ok",
     "timestamp": 1633875922918,
     "user_tz": -420,
     "elapsed": 6699,
     "user": {
      "displayName": "Тимур Касимов",
      "photoUrl": "https://lh3.googleusercontent.com/a-/AOh14GgoYD7gAO8MbW-ulTntpJEcWP5X43ZkEHscvf7OTg=s64",
      "userId": "04879825006862147686"
     }
    },
    "outputId": "2f073f77-f82c-4f11-9b7d-ccb551da44ed"
   },
   "source": [
    "!cp drive/MyDrive/val.zip . && unzip -qq val.zip && rm val.zip && ls -l val | wc -l"
   ],
   "execution_count": 5,
   "outputs": [
    {
     "output_type": "stream",
     "name": "stdout",
     "text": [
      "1001\n"
     ]
    }
   ]
  },
  {
   "cell_type": "code",
   "metadata": {
    "colab": {
     "base_uri": "https://localhost:8080/"
    },
    "id": "l4-_qusVLv_j",
    "executionInfo": {
     "status": "ok",
     "timestamp": 1633876625638,
     "user_tz": -420,
     "elapsed": 250088,
     "user": {
      "displayName": "Тимур Касимов",
      "photoUrl": "https://lh3.googleusercontent.com/a-/AOh14GgoYD7gAO8MbW-ulTntpJEcWP5X43ZkEHscvf7OTg=s64",
      "userId": "04879825006862147686"
     }
    },
    "outputId": "526860ad-3c47-4722-f43f-3216666aaa34"
   },
   "source": [
    "!date\n",
    "!python -m denoiser.enhance --master64 --noisy_dir=val --out_dir=dns-valentini-h64 --device \"cuda\"\n",
    "!date\n",
    "!zip -q -r dns-valentini-h64.zip dns-valentini-h64/ && mv dns-valentini-h64.zip drive/MyDrive/ && rm -rf dns-valentini-h64/"
   ],
   "execution_count": 8,
   "outputs": [
    {
     "output_type": "stream",
     "name": "stdout",
     "text": [
      "Sun Oct 10 14:32:55 UTC 2021\n",
      "INFO:denoiser.pretrained:Loading pre-trained real time H=64 model trained on DNS and Valentini.\n",
      "Downloading: \"https://dl.fbaipublicfiles.com/adiyoss/denoiser/master64-8a5dfb4bb92753dd.th\" to /root/.cache/torch/hub/checkpoints/master64-8a5dfb4bb92753dd.th\n",
      "100% 128M/128M [00:04<00:00, 27.9MB/s]\n",
      "INFO:__main__:Generate enhanced files | 200/1000 | 8.4 it/sec\n",
      "INFO:__main__:Generate enhanced files | 400/1000 | 7.9 it/sec\n",
      "INFO:__main__:Generate enhanced files | 600/1000 | 7.7 it/sec\n",
      "INFO:__main__:Generate enhanced files | 800/1000 | 7.7 it/sec\n",
      "INFO:__main__:Generate enhanced files | 1000/1000 | 7.8 it/sec\n",
      "Sun Oct 10 14:35:14 UTC 2021\n"
     ]
    }
   ]
  },
  {
   "cell_type": "code",
   "metadata": {
    "colab": {
     "base_uri": "https://localhost:8080/"
    },
    "id": "l45Z_IhYZnQe",
    "executionInfo": {
     "status": "ok",
     "timestamp": 1633876149312,
     "user_tz": -420,
     "elapsed": 221187,
     "user": {
      "displayName": "Тимур Касимов",
      "photoUrl": "https://lh3.googleusercontent.com/a-/AOh14GgoYD7gAO8MbW-ulTntpJEcWP5X43ZkEHscvf7OTg=s64",
      "userId": "04879825006862147686"
     }
    },
    "outputId": "b944a108-e611-4d68-931f-ed09261fb142"
   },
   "source": [
    "!date\n",
    "!python -m denoiser.enhance --dns48 --noisy_dir=val --out_dir=dns-h48 --device \"cuda\"\n",
    "!date\n",
    "!zip -q -r dns-h48.zip dns-h48/ && mv dns-h48.zip drive/MyDrive/ && rm -rf dns-h48/"
   ],
   "execution_count": 6,
   "outputs": [
    {
     "output_type": "stream",
     "name": "stdout",
     "text": [
      "Sun Oct 10 14:25:28 UTC 2021\n",
      "INFO:denoiser.pretrained:Loading pre-trained real time H=48 model trained on DNS.\n",
      "Downloading: \"https://dl.fbaipublicfiles.com/adiyoss/denoiser/dns48-11decc9d8e3f0998.th\" to /root/.cache/torch/hub/checkpoints/dns48-11decc9d8e3f0998.th\n",
      "100% 72.0M/72.0M [00:02<00:00, 28.9MB/s]\n",
      "INFO:__main__:Generate enhanced files | 200/1000 | 12.1 it/sec\n",
      "INFO:__main__:Generate enhanced files | 400/1000 | 11.5 it/sec\n",
      "INFO:__main__:Generate enhanced files | 600/1000 | 11.2 it/sec\n",
      "INFO:__main__:Generate enhanced files | 800/1000 | 11.2 it/sec\n",
      "INFO:__main__:Generate enhanced files | 1000/1000 | 11.5 it/sec\n",
      "Sun Oct 10 14:27:16 UTC 2021\n"
     ]
    }
   ]
  },
  {
   "cell_type": "code",
   "metadata": {
    "colab": {
     "base_uri": "https://localhost:8080/"
    },
    "id": "rzjcO7HKaNmG",
    "executionInfo": {
     "status": "ok",
     "timestamp": 1633876874298,
     "user_tz": -420,
     "elapsed": 248670,
     "user": {
      "displayName": "Тимур Касимов",
      "photoUrl": "https://lh3.googleusercontent.com/a-/AOh14GgoYD7gAO8MbW-ulTntpJEcWP5X43ZkEHscvf7OTg=s64",
      "userId": "04879825006862147686"
     }
    },
    "outputId": "a4f19561-f2f8-4117-9554-eff4d46e4704"
   },
   "source": [
    "!date\n",
    "!python -m denoiser.enhance --dns64 --noisy_dir=val --out_dir=dns-h64 --device \"cuda\"\n",
    "!date\n",
    "!zip -q -r dns-h64.zip dns-h64/ && mv dns-h64.zip drive/MyDrive/ && rm -rf dns-h64/"
   ],
   "execution_count": 9,
   "outputs": [
    {
     "output_type": "stream",
     "name": "stdout",
     "text": [
      "Sun Oct 10 14:37:05 UTC 2021\n",
      "INFO:denoiser.pretrained:Loading pre-trained real time H=64 model trained on DNS.\n",
      "INFO:__main__:Generate enhanced files | 200/1000 | 8.3 it/sec\n",
      "INFO:__main__:Generate enhanced files | 400/1000 | 7.8 it/sec\n",
      "INFO:__main__:Generate enhanced files | 600/1000 | 7.6 it/sec\n",
      "INFO:__main__:Generate enhanced files | 800/1000 | 7.6 it/sec\n",
      "INFO:__main__:Generate enhanced files | 1000/1000 | 7.7 it/sec\n",
      "Sun Oct 10 14:39:23 UTC 2021\n"
     ]
    }
   ]
  }
 ]
}